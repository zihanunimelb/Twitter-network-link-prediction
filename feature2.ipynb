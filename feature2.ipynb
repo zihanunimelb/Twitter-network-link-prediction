{
  "nbformat": 4,
  "nbformat_minor": 0,
  "metadata": {
    "colab": {
      "name": "feature2",
      "provenance": [],
      "collapsed_sections": []
    },
    "kernelspec": {
      "name": "python3",
      "display_name": "Python 3"
    }
  },
  "cells": [
    {
      "cell_type": "code",
      "metadata": {
        "id": "j26_-6SEbrlE",
        "colab_type": "code",
        "colab": {}
      },
      "source": [
        "import numpy as np\n",
        "import pandas as pd\n",
        "import random\n",
        "import networkx as nx\n",
        "from IPython.display import Image\n",
        "import matplotlib.pyplot as plt\n",
        "import nltk\n",
        "from random import choice\n",
        "import copy"
      ],
      "execution_count": null,
      "outputs": []
    },
    {
      "cell_type": "code",
      "metadata": {
        "id": "7GU-lpYqbv_f",
        "colab_type": "code",
        "colab": {
          "base_uri": "https://localhost:8080/",
          "height": 35
        },
        "outputId": "c7e17a99-c021-461f-f2c8-3a210489b05f"
      },
      "source": [
        "from google.colab import drive\n",
        "drive.mount('/content/drive')"
      ],
      "execution_count": null,
      "outputs": [
        {
          "output_type": "stream",
          "text": [
            "Mounted at /content/drive\n"
          ],
          "name": "stdout"
        }
      ]
    },
    {
      "cell_type": "code",
      "metadata": {
        "id": "3G3znnAhb1e3",
        "colab_type": "code",
        "colab": {}
      },
      "source": [
        "positive = np.load(\"/content/drive/My Drive/Colab Notebooks/positive.npy\").tolist()\n",
        "negative = np.load(\"/content/drive/My Drive/Colab Notebooks/negative.npy\").tolist()\n",
        "tes_posi = np.load(\"/content/drive/My Drive/Colab Notebooks/train_test_positive.npy\").tolist()\n",
        "tes_nega = np.load(\"/content/drive/My Drive/Colab Notebooks/train_test_negative.npy\").tolist()"
      ],
      "execution_count": null,
      "outputs": []
    },
    {
      "cell_type": "code",
      "metadata": {
        "id": "tf9erZyBbYlQ",
        "colab_type": "code",
        "colab": {}
      },
      "source": [
        "from scipy.sparse import csr_matrix\n",
        "train = open('/content/drive/My Drive/Colab Notebooks/train.txt')\n",
        "lines = train.readlines()\n",
        "row=[]\n",
        "col=[]\n",
        "data=[]\n",
        "for line in lines:\n",
        "    neighbour_list=[int(i) for i in line.split()]\n",
        "    for i in range(1,len(neighbour_list)):\n",
        "        row.append(neighbour_list[0])\n",
        "        col.append(neighbour_list[i])\n",
        "        data.append(1)\n",
        "source_sink_matrix=csr_matrix((data,(row,col)),shape=(4867136,4867136))\n",
        "sink_source_matrix=csr_matrix=source_sink_matrix.transpose()"
      ],
      "execution_count": null,
      "outputs": []
    },
    {
      "cell_type": "code",
      "metadata": {
        "id": "Bf0ijfnUi2yx",
        "colab_type": "code",
        "colab": {}
      },
      "source": [
        "from sklearn.metrics.pairwise import cosine_similarity as cossim\n",
        "\n",
        "def pre_sim(X,Y):\n",
        "    return cossim(source_sink_matrix[X],source_sink_matrix[Y])[0][0]\n",
        "def suc_sim(X,Y):\n",
        "    return cossim(sink_source_matrix[X],sink_source_matrix[Y])[0][0]\n",
        "def get_features(edges):\n",
        "    ps = []\n",
        "    ss = []\n",
        "    for edge in edges:\n",
        "        psscore = pre_sim(edge[0],edge[1])\n",
        "        ssscore = suc_sim(edge[0],edge[1])\n",
        "        ps.append(psscore)\n",
        "        ss.append(ssscore)\n",
        "    return ps,ss"
      ],
      "execution_count": null,
      "outputs": []
    },
    {
      "cell_type": "code",
      "metadata": {
        "id": "VKB8JLVzi8p7",
        "colab_type": "code",
        "colab": {}
      },
      "source": [
        "pos_ps, pos_ss = get_features(positive)\n",
        "neg_ps, neg_ss = get_features(negative)\n",
        "train_ps = pos_ps + neg_ps\n",
        "train_ss = pos_ss + neg_ss"
      ],
      "execution_count": null,
      "outputs": []
    },
    {
      "cell_type": "code",
      "metadata": {
        "id": "TbWanVi8kTeL",
        "colab_type": "code",
        "colab": {}
      },
      "source": [
        "trainset2 = pd.DataFrame()\n",
        "trainset2['PS'] = train_ps\n",
        "trainset2['SS'] = train_ss"
      ],
      "execution_count": null,
      "outputs": []
    },
    {
      "cell_type": "code",
      "metadata": {
        "id": "QRaD3t3PjAG6",
        "colab_type": "code",
        "colab": {}
      },
      "source": [
        "ps_tes_pos, ss_tes_pos = get_features(tes_posi)\n",
        "ps_tes_neg, ss_tes_neg = get_features(tes_nega)\n",
        "ps_tes = ps_tes_pos + ps_tes_neg\n",
        "ss_tes = ss_tes_pos + ss_tes_neg"
      ],
      "execution_count": null,
      "outputs": []
    },
    {
      "cell_type": "code",
      "metadata": {
        "id": "AsJmL4MtkcsD",
        "colab_type": "code",
        "colab": {}
      },
      "source": [
        "testset2 = pd.DataFrame()\n",
        "testset2['PS'] = ps_tes\n",
        "testset2['SS'] = ss_tes"
      ],
      "execution_count": null,
      "outputs": []
    },
    {
      "cell_type": "code",
      "metadata": {
        "id": "ZVyRq3NUkpqB",
        "colab_type": "code",
        "colab": {}
      },
      "source": [
        "trainset2.to_csv(\"trainset2.csv\",index = False)\n",
        "testset2.to_csv(\"testset2.csv\",index = False)"
      ],
      "execution_count": null,
      "outputs": []
    },
    {
      "cell_type": "code",
      "metadata": {
        "id": "8Vr6ydTNmIV8",
        "colab_type": "code",
        "colab": {}
      },
      "source": [
        "t = open('/content/drive/My Drive/Colab Notebooks/test-public.txt')\n",
        "test = []\n",
        "tlines = t.readlines()\n",
        "id = []\n",
        "for line in tlines[1:]:\n",
        "    edge = line.split()\n",
        "    test.append((int(edge[1]),int(edge[2])))\n",
        "    id.append(edge[0])"
      ],
      "execution_count": null,
      "outputs": []
    },
    {
      "cell_type": "code",
      "metadata": {
        "id": "i2QXOh4jmN5h",
        "colab_type": "code",
        "colab": {}
      },
      "source": [
        "tes_ps, tes_ss =  get_features(test)"
      ],
      "execution_count": null,
      "outputs": []
    },
    {
      "cell_type": "code",
      "metadata": {
        "id": "0QV8ebA-mifB",
        "colab_type": "code",
        "colab": {}
      },
      "source": [
        "np.save('id.npy',np.array(id))"
      ],
      "execution_count": null,
      "outputs": []
    },
    {
      "cell_type": "code",
      "metadata": {
        "id": "mnQx3senm3Tj",
        "colab_type": "code",
        "colab": {}
      },
      "source": [
        "test_final2 = pd.DataFrame()\n",
        "test_final2['PS'] = tes_ps\n",
        "test_final2['SS'] = tes_ss"
      ],
      "execution_count": null,
      "outputs": []
    },
    {
      "cell_type": "code",
      "metadata": {
        "id": "gaobQCUfnIUD",
        "colab_type": "code",
        "colab": {}
      },
      "source": [
        "test_final2.to_csv(\"test_final2.csv\",index = False)"
      ],
      "execution_count": null,
      "outputs": []
    }
  ]
}