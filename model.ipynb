{
  "nbformat": 4,
  "nbformat_minor": 0,
  "metadata": {
    "colab": {
      "name": "model",
      "provenance": [],
      "collapsed_sections": []
    },
    "kernelspec": {
      "name": "python3",
      "display_name": "Python 3"
    }
  },
  "cells": [
    {
      "cell_type": "code",
      "metadata": {
        "id": "5PzPVD3AqjDi",
        "colab_type": "code",
        "colab": {}
      },
      "source": [
        "import numpy as np\n",
        "import pandas as pd\n",
        "import random\n",
        "import networkx as nx\n",
        "from IPython.display import Image\n",
        "import matplotlib.pyplot as plt\n",
        "import nltk\n",
        "from random import choice\n",
        "import copy"
      ],
      "execution_count": null,
      "outputs": []
    },
    {
      "cell_type": "code",
      "metadata": {
        "id": "a7a4dUcOqo3B",
        "colab_type": "code",
        "colab": {
          "base_uri": "https://localhost:8080/",
          "height": 35
        },
        "outputId": "895bea32-2461-4156-b119-6ecd8880fb0c"
      },
      "source": [
        "from google.colab import drive\n",
        "drive.mount('/content/drive')"
      ],
      "execution_count": null,
      "outputs": [
        {
          "output_type": "stream",
          "text": [
            "Drive already mounted at /content/drive; to attempt to forcibly remount, call drive.mount(\"/content/drive\", force_remount=True).\n"
          ],
          "name": "stdout"
        }
      ]
    },
    {
      "cell_type": "code",
      "metadata": {
        "id": "Y99YgDJxqa1z",
        "colab_type": "code",
        "colab": {}
      },
      "source": [
        "trainset = pd.read_csv('/content/drive/My Drive/Colab Notebooks/trainfeatures.csv')"
      ],
      "execution_count": null,
      "outputs": []
    },
    {
      "cell_type": "code",
      "metadata": {
        "id": "4IN6WLjtqyCR",
        "colab_type": "code",
        "colab": {}
      },
      "source": [
        "testset = pd.read_csv('/content/drive/My Drive/Colab Notebooks/testfeatures.csv')"
      ],
      "execution_count": null,
      "outputs": []
    },
    {
      "cell_type": "code",
      "metadata": {
        "id": "ta0JAsAIq1Ew",
        "colab_type": "code",
        "colab": {}
      },
      "source": [
        "finalset = pd.read_csv('/content/drive/My Drive/Colab Notebooks/finalfeatures.csv')"
      ],
      "execution_count": null,
      "outputs": []
    },
    {
      "cell_type": "code",
      "metadata": {
        "id": "B7SKsvh5xOAG",
        "colab_type": "code",
        "colab": {}
      },
      "source": [
        "id = np.load(\"/content/drive/My Drive/Colab Notebooks/id.npy\").tolist()"
      ],
      "execution_count": null,
      "outputs": []
    },
    {
      "cell_type": "code",
      "metadata": {
        "id": "3G3znnAhb1e3",
        "colab_type": "code",
        "colab": {}
      },
      "source": [
        "train_label = np.load(\"/content/drive/My Drive/Colab Notebooks/train_label.npy\").tolist()\n",
        "tes_label = np.load(\"/content/drive/My Drive/Colab Notebooks/tes_label.npy\").tolist()"
      ],
      "execution_count": null,
      "outputs": []
    },
    {
      "cell_type": "code",
      "metadata": {
        "id": "iql8KnLCq4yp",
        "colab_type": "code",
        "colab": {
          "base_uri": "https://localhost:8080/",
          "height": 35
        },
        "outputId": "0a6137a4-5086-41f0-8e8a-969e17c4fe6f"
      },
      "source": [
        "from sklearn.metrics import roc_auc_score\n",
        "from sklearn.linear_model import LogisticRegression\n",
        "lr = LogisticRegression()\n",
        "lr.fit(trainset,train_label)\n",
        "pre_lr = lr.predict_proba(testset)\n",
        "pre_lr_label = [pred[1] for pred in pre_lr]\n",
        "auc=roc_auc_score(tes_label,pre_lr_label)\n",
        "print(auc)"
      ],
      "execution_count": null,
      "outputs": [
        {
          "output_type": "stream",
          "text": [
            "0.7708117499999999\n"
          ],
          "name": "stdout"
        }
      ]
    },
    {
      "cell_type": "code",
      "metadata": {
        "id": "ir0SPpcrq_cJ",
        "colab_type": "code",
        "colab": {
          "base_uri": "https://localhost:8080/",
          "height": 35
        },
        "outputId": "a0f551f6-db4f-4df3-ae6b-0052febba652"
      },
      "source": [
        "from sklearn.ensemble import RandomForestClassifier\n",
        "rf = RandomForestClassifier()\n",
        "rf.fit(trainset,train_label)\n",
        "pre_rf = rf.predict_proba(testset)\n",
        "pre_rf_label = [pred[1] for pred in pre_rf]\n",
        "auc=roc_auc_score(tes_label,pre_rf_label)\n",
        "print(auc)"
      ],
      "execution_count": null,
      "outputs": [
        {
          "output_type": "stream",
          "text": [
            "0.8255354999999998\n"
          ],
          "name": "stdout"
        }
      ]
    },
    {
      "cell_type": "code",
      "metadata": {
        "id": "CrZO8iuvLhDM",
        "colab_type": "code",
        "colab": {
          "base_uri": "https://localhost:8080/",
          "height": 35
        },
        "outputId": "66e3ac3f-c08e-4c07-bc20-dc3028b8f9ba"
      },
      "source": [
        "from sklearn import svm\n",
        "from sklearn.metrics import accuracy_score\n",
        "sv = svm.SVC()\n",
        "sv.fit(trainset,train_label)\n",
        "pre_sv = sv.predict(testset)\n",
        "auc = accuracy_score(tes_label,pre_sv)\n",
        "print(auc)"
      ],
      "execution_count": null,
      "outputs": [
        {
          "output_type": "stream",
          "text": [
            "0.50275\n"
          ],
          "name": "stdout"
        }
      ]
    },
    {
      "cell_type": "code",
      "metadata": {
        "id": "Qa9KUBLxwiks",
        "colab_type": "code",
        "colab": {}
      },
      "source": [
        "tes_pre_rf = rf.predict_proba(finalset)\n",
        "tes_pre_rf_label = [pred[1] for pred in tes_pre_rf]\n",
        "out = pd.DataFrame()\n",
        "out['Id'] = id\n",
        "out['Predicted'] = tes_pre_rf_label\n",
        "out.to_csv(\"test1.csv\",index = False)"
      ],
      "execution_count": null,
      "outputs": []
    }
  ]
}