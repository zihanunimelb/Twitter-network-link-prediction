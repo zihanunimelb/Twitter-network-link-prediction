{
  "nbformat": 4,
  "nbformat_minor": 0,
  "metadata": {
    "colab": {
      "name": "finalsets.ipynb",
      "provenance": []
    },
    "kernelspec": {
      "name": "python3",
      "display_name": "Python 3"
    }
  },
  "cells": [
    {
      "cell_type": "code",
      "metadata": {
        "id": "3hTd6vKQl313",
        "colab_type": "code",
        "colab": {}
      },
      "source": [
        "import numpy as np\n",
        "import pandas as pd\n",
        "import random\n",
        "import networkx as nx\n",
        "from IPython.display import Image\n",
        "import matplotlib.pyplot as plt\n",
        "import nltk\n",
        "from random import choice\n",
        "import copy"
      ],
      "execution_count": null,
      "outputs": []
    },
    {
      "cell_type": "code",
      "metadata": {
        "id": "BPEu-fDwnwW-",
        "colab_type": "code",
        "colab": {
          "base_uri": "https://localhost:8080/",
          "height": 35
        },
        "outputId": "3efa6c15-ae60-489c-f9f9-34e8f4eacb0a"
      },
      "source": [
        "from google.colab import drive\n",
        "drive.mount('/content/drive')"
      ],
      "execution_count": null,
      "outputs": [
        {
          "output_type": "stream",
          "text": [
            "Mounted at /content/drive\n"
          ],
          "name": "stdout"
        }
      ]
    },
    {
      "cell_type": "code",
      "metadata": {
        "id": "JoExYpWCnyJo",
        "colab_type": "code",
        "colab": {}
      },
      "source": [
        "trainset = pd.read_csv('/content/drive/My Drive/Colab Notebooks/trainset.csv')"
      ],
      "execution_count": null,
      "outputs": []
    },
    {
      "cell_type": "code",
      "metadata": {
        "id": "31-y3-3ioBO4",
        "colab_type": "code",
        "colab": {}
      },
      "source": [
        "trainset2 = pd.read_csv('/content/drive/My Drive/Colab Notebooks/trainset2.csv')"
      ],
      "execution_count": null,
      "outputs": []
    },
    {
      "cell_type": "code",
      "metadata": {
        "id": "rKy-G9PtoS0w",
        "colab_type": "code",
        "colab": {}
      },
      "source": [
        "trainfeatures = pd.concat([trainset, trainset2], axis=1, sort=False)"
      ],
      "execution_count": null,
      "outputs": []
    },
    {
      "cell_type": "code",
      "metadata": {
        "id": "aqvBL05xoZe6",
        "colab_type": "code",
        "colab": {}
      },
      "source": [
        "trainfeatures.to_csv(\"trainfeatures.csv\",index = False)"
      ],
      "execution_count": null,
      "outputs": []
    },
    {
      "cell_type": "code",
      "metadata": {
        "id": "or04DTlGooDx",
        "colab_type": "code",
        "colab": {}
      },
      "source": [
        "testset = pd.read_csv('/content/drive/My Drive/Colab Notebooks/testset.csv')\n",
        "testset2 = pd.read_csv('/content/drive/My Drive/Colab Notebooks/testset2.csv')"
      ],
      "execution_count": null,
      "outputs": []
    },
    {
      "cell_type": "code",
      "metadata": {
        "id": "1R37E7owpO5c",
        "colab_type": "code",
        "colab": {}
      },
      "source": [
        "testfeatures = pd.concat([testset, testset2], axis=1, sort=False)"
      ],
      "execution_count": null,
      "outputs": []
    },
    {
      "cell_type": "code",
      "metadata": {
        "id": "PQhWcXP4pTvC",
        "colab_type": "code",
        "colab": {}
      },
      "source": [
        "testfeatures.to_csv(\"testfeatures.csv\",index = False)"
      ],
      "execution_count": null,
      "outputs": []
    },
    {
      "cell_type": "code",
      "metadata": {
        "id": "VmCFHOappaTC",
        "colab_type": "code",
        "colab": {}
      },
      "source": [
        "test_final = pd.read_csv('/content/drive/My Drive/Colab Notebooks/test_final.csv')"
      ],
      "execution_count": null,
      "outputs": []
    },
    {
      "cell_type": "code",
      "metadata": {
        "id": "oH2TexcXpnsi",
        "colab_type": "code",
        "colab": {}
      },
      "source": [
        "test_final2 = pd.read_csv('/content/drive/My Drive/Colab Notebooks/test_final2.csv')"
      ],
      "execution_count": null,
      "outputs": []
    },
    {
      "cell_type": "code",
      "metadata": {
        "id": "4yRvif14ppo6",
        "colab_type": "code",
        "colab": {}
      },
      "source": [
        "finalfeatures = testfeatures = pd.concat([test_final, test_final2], axis=1, sort=False)"
      ],
      "execution_count": null,
      "outputs": []
    },
    {
      "cell_type": "code",
      "metadata": {
        "id": "n4LgZJbVpu34",
        "colab_type": "code",
        "colab": {}
      },
      "source": [
        "finalfeatures.to_csv(\"finalfeatures.csv\",index = False)"
      ],
      "execution_count": null,
      "outputs": []
    }
  ]
}