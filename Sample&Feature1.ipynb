{
  "nbformat": 4,
  "nbformat_minor": 0,
  "metadata": {
    "colab": {
      "name": "Sample&Feature1",
      "provenance": [],
      "collapsed_sections": [],
      "toc_visible": true
    },
    "kernelspec": {
      "name": "python3",
      "display_name": "Python 3"
    }
  },
  "cells": [
    {
      "cell_type": "code",
      "metadata": {
        "id": "D1fVBn4aaV4m",
        "colab_type": "code",
        "colab": {}
      },
      "source": [
        "import numpy as np\n",
        "import pandas as pd\n",
        "import random\n",
        "import networkx as nx\n",
        "from IPython.display import Image\n",
        "import matplotlib.pyplot as plt\n",
        "import nltk\n",
        "from random import choice\n",
        "import copy"
      ],
      "execution_count": null,
      "outputs": []
    },
    {
      "cell_type": "code",
      "metadata": {
        "id": "GjjdxAzFaa8q",
        "colab_type": "code",
        "colab": {
          "base_uri": "https://localhost:8080/",
          "height": 35
        },
        "outputId": "75d782c9-b93a-461f-cfe2-bf263553f612"
      },
      "source": [
        "from google.colab import drive\n",
        "drive.mount('/content/drive')"
      ],
      "execution_count": null,
      "outputs": [
        {
          "output_type": "stream",
          "text": [
            "Mounted at /content/drive\n"
          ],
          "name": "stdout"
        }
      ]
    },
    {
      "cell_type": "code",
      "metadata": {
        "id": "6ELYbbwjaec-",
        "colab_type": "code",
        "colab": {}
      },
      "source": [
        "sources =[]\n",
        "sinks = []\n",
        "neighbours = []\n",
        "f = open('/content/drive/My Drive/Colab Notebooks/train.txt',encoding ='utf-8')\n",
        "lines = f.readlines()\n",
        "for line in lines:\n",
        "    data = [int(i) for i in line.split()]\n",
        "    source = data[0]\n",
        "    sources.append(source)\n",
        "    data.pop(0)\n",
        "    neighbours.append(data)\n",
        "    sinks.extend(data)\n",
        "\n",
        "train = {}\n",
        "notEmpNodes = []\n",
        "for i in range(len(sources)):\n",
        "    train[sources[i]] = neighbours[i]\n",
        "    if not neighbours[i] == []:\n",
        "        notEmpNodes.append(sources[i])"
      ],
      "execution_count": null,
      "outputs": []
    },
    {
      "cell_type": "code",
      "metadata": {
        "id": "r1VLHSutafUY",
        "colab_type": "code",
        "colab": {}
      },
      "source": [
        "positive = []\n",
        "negative = []\n",
        "for a in range(10000):\n",
        "    node1 = choice(sources)\n",
        "    node2 = choice(sinks)\n",
        "    while ((node1,node2) in negative) or (node2 in train[node1]):\n",
        "        node1 = choice(sources)\n",
        "        node2 = choice(sinks)\n",
        "    negative.append((node1,node2))\n",
        "for a in range(10000):\n",
        "    node1 = choice(notEmpNodes)\n",
        "    node2 = choice(train[node1])\n",
        "    while (node1,node2) in positive:\n",
        "        node1 = choice(notEmpNodes)\n",
        "        node2 = choice(train[node1])\n",
        "    positive.append((node1,node2))"
      ],
      "execution_count": null,
      "outputs": []
    },
    {
      "cell_type": "code",
      "metadata": {
        "id": "jMbaBGeDcu3J",
        "colab_type": "code",
        "colab": {}
      },
      "source": [
        "tes_posi = []\n",
        "tes_nega = []\n",
        "for a in range(2000):\n",
        "    node1 = choice(sources)\n",
        "    node2 = choice(sinks)\n",
        "    while ((node1,node2) in tes_nega) or (node2 in train[node1]):\n",
        "        node1 = choice(sources)\n",
        "        node2 = choice(sinks)\n",
        "    tes_nega.append((node1,node2))\n",
        "for a in range(2000):\n",
        "    node1 = choice(notEmpNodes)\n",
        "    node2 = choice(train[node1])\n",
        "    while (node1,node2) in tes_posi:\n",
        "        node1 = choice(notEmpNodes)\n",
        "        node2 = choice(train[node1])\n",
        "    tes_posi.append((node1,node2))"
      ],
      "execution_count": null,
      "outputs": []
    },
    {
      "cell_type": "code",
      "metadata": {
        "id": "cOOQgB8Sg4Qo",
        "colab_type": "code",
        "colab": {}
      },
      "source": [
        "G = nx.Graph(train)"
      ],
      "execution_count": null,
      "outputs": []
    },
    {
      "cell_type": "code",
      "metadata": {
        "id": "X-lvty-hg7nj",
        "colab_type": "code",
        "colab": {}
      },
      "source": [
        "def get_features(G,edges):\n",
        "    jcs = []\n",
        "    aas = []\n",
        "    ras = []\n",
        "    pas = []\n",
        "    deg = []\n",
        "    for edge in edges:\n",
        "        \n",
        "            jc = list(nx.jaccard_coefficient(G,[edge]))\n",
        "            for source,sink,jcscore in jc:\n",
        "                jcs.append(jcscore)\n",
        "    \n",
        "    \n",
        "            aa = list(nx.adamic_adar_index(G,[edge]))\n",
        "            for source,sink,aascore in aa:\n",
        "                aas.append(aascore)\n",
        "\n",
        "    \n",
        "            ra = list(nx.resource_allocation_index(G,[edge]))\n",
        "            for source,sink,rascore in ra:\n",
        "                ras.append(rascore)\n",
        "    \n",
        "    \n",
        "            pa = list(nx.preferential_attachment(G,[edge]))\n",
        "            for source,sink,pascore in ra:\n",
        "                pas.append(pascore)\n",
        "\n",
        "            de = G.degree(edge[0]) + G.degree(edge[1])\n",
        "            deg.append(de)\n",
        "        \n",
        "    return jcs, aas, ras, pas, de"
      ],
      "execution_count": null,
      "outputs": []
    },
    {
      "cell_type": "code",
      "metadata": {
        "id": "bmsEgSgxg-jY",
        "colab_type": "code",
        "colab": {}
      },
      "source": [
        "pos_jc, pos_aa, pos_ra, pos_pa, pos_de = get_features(G,positive)\n",
        "neg_jc, neg_aa, neg_ra, neg_pa, neg_de = get_features(G,negative)"
      ],
      "execution_count": null,
      "outputs": []
    },
    {
      "cell_type": "code",
      "metadata": {
        "id": "59CtNYVOhCOw",
        "colab_type": "code",
        "colab": {}
      },
      "source": [
        "pos_label = [1] * len(positive)\n",
        "neg_label = [0] * len(negative)"
      ],
      "execution_count": null,
      "outputs": []
    },
    {
      "cell_type": "code",
      "metadata": {
        "id": "h6l_Np5dhvpm",
        "colab_type": "code",
        "colab": {}
      },
      "source": [
        "train_jc = pos_jc + neg_jc\n",
        "train_aa = pos_aa + neg_aa\n",
        "train_ra = pos_ra + neg_ra\n",
        "train_pa = pos_pa + neg_pa\n",
        "train_de = pos_de + neg_de\n",
        "train_label = np.array(pos_label + neg_label)\n",
        "trainset = pd.DataFrame()\n",
        "trainset['JC'] = train_jc\n",
        "trainset['AA'] = train_aa\n",
        "trainset['RA'] = train_ra\n",
        "trainset['PA'] = train_pa\n",
        "trainset['DE'] = train_de"
      ],
      "execution_count": null,
      "outputs": []
    },
    {
      "cell_type": "code",
      "metadata": {
        "id": "BJMzuj-sh8xx",
        "colab_type": "code",
        "colab": {}
      },
      "source": [
        "jc_tes_pos, aa_tes_pos, ra_tes_pos, pa_tes_pos, de_tes_pos = get_features(G,tes_posi)\n",
        "jc_tes_neg, aa_tes_neg, ra_tes_neg, pa_tes_neg, de_tes_neg = get_features(G,tes_nega)"
      ],
      "execution_count": null,
      "outputs": []
    },
    {
      "cell_type": "code",
      "metadata": {
        "id": "lvct6qSJiAv2",
        "colab_type": "code",
        "colab": {}
      },
      "source": [
        "tes_pos_label = [1] * len(tes_posi)\n",
        "tes_neg_label = [0] * len(tes_nega)\n",
        "tes_label = np.array(tes_pos_label + tes_neg_label)"
      ],
      "execution_count": null,
      "outputs": []
    },
    {
      "cell_type": "code",
      "metadata": {
        "id": "Xt_FphFPiDa0",
        "colab_type": "code",
        "colab": {}
      },
      "source": [
        "jc_tes = jc_tes_pos + jc_tes_neg\n",
        "aa_tes = aa_tes_pos + aa_tes_neg\n",
        "ra_tes = ra_tes_pos + ra_tes_neg\n",
        "pa_tes = pa_tes_pos + pa_tes_neg\n",
        "de_tes = de_tes_pos + de_tes_neg\n",
        "testset = pd.DataFrame()\n",
        "testset['JC'] = jc_tes\n",
        "testset['AA'] = aa_tes\n",
        "testset['RA'] = ra_tes\n",
        "testset['PA'] = pa_tes \n",
        "testset['DE'] = de_tes"
      ],
      "execution_count": null,
      "outputs": []
    },
    {
      "cell_type": "code",
      "metadata": {
        "id": "JUQCl50Van-4",
        "colab_type": "code",
        "colab": {}
      },
      "source": [
        "np.save('positive.npy',np.array(positive))\n",
        "np.save('negative.npy',np.array(negative))\n",
        "np.save('train_label.npy',np.array(train_label))"
      ],
      "execution_count": null,
      "outputs": []
    },
    {
      "cell_type": "code",
      "metadata": {
        "id": "6vtmJNoRc3yf",
        "colab_type": "code",
        "colab": {}
      },
      "source": [
        "np.save('train_test_positive.npy',np.array(tes_posi))\n",
        "np.save('train_test_negative.npy',np.array(tes_nega))\n",
        "np.save('tes_label.npy',np.array(tes_label))"
      ],
      "execution_count": null,
      "outputs": []
    },
    {
      "cell_type": "code",
      "metadata": {
        "id": "-Ur2z-9Ygpkt",
        "colab_type": "code",
        "colab": {}
      },
      "source": [
        "trainset.to_csv(\"trainset.csv\",index = False)\n",
        "testset.to_csv(\"testset.csv\",index = False)"
      ],
      "execution_count": null,
      "outputs": []
    },
    {
      "cell_type": "code",
      "metadata": {
        "id": "B1aE1JuWj0SO",
        "colab_type": "code",
        "colab": {}
      },
      "source": [
        "t = open('/content/drive/My Drive/Colab Notebooks/test-public.txt')\n",
        "test = []\n",
        "tlines = t.readlines()\n",
        "id = []\n",
        "for line in tlines[1:]:\n",
        "    edge = line.split()\n",
        "    test.append((int(edge[1]),int(edge[2])))\n",
        "    id.append(edge[0])"
      ],
      "execution_count": null,
      "outputs": []
    },
    {
      "cell_type": "code",
      "metadata": {
        "id": "7lEC0D1Jj3j3",
        "colab_type": "code",
        "colab": {}
      },
      "source": [
        "tes_jc, tes_aa, tes_ra, tes_pa, tes_de = get_features(G,test)"
      ],
      "execution_count": null,
      "outputs": []
    },
    {
      "cell_type": "code",
      "metadata": {
        "id": "uNQ7e4Iuj6YC",
        "colab_type": "code",
        "colab": {}
      },
      "source": [
        "test_final = pd.DataFrame()\n",
        "test_final['JC'] = tes_jc\n",
        "test_final['AA'] = tes_aa\n",
        "test_final['RA'] = tes_ra\n",
        "test_final['PA'] = tes_pa\n",
        "test_final['DE'] = tes_de"
      ],
      "execution_count": null,
      "outputs": []
    },
    {
      "cell_type": "code",
      "metadata": {
        "id": "wDD8tkgYj-Ka",
        "colab_type": "code",
        "colab": {}
      },
      "source": [
        "test_final.to_csv(\"test_final.csv\",index = False)"
      ],
      "execution_count": null,
      "outputs": []
    }
  ]
}